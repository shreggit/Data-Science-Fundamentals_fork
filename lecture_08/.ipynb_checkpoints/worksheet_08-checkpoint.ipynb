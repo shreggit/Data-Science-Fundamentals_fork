{
 "cells": [
  {
   "cell_type": "markdown",
   "metadata": {},
   "source": [
    "# Worksheet 08\n",
    "\n",
    "Name:  Shreyas Sudarsan\n",
    "UID: U71890555\n",
    "\n",
    "### Topics\n",
    "\n",
    "- Soft Clustering\n",
    "- Clustering Aggregation\n",
    "\n",
    "### Probability Review\n",
    "\n",
    "Read through [the following](https://medium.com/@gallettilance/overview-of-probability-3272b72c82c8)\n",
    "\n",
    "### Soft Clustering\n",
    "\n",
    "We generate 10 data points that come from a normal distribution with mean 5 and variance 1."
   ]
  },
  {
   "cell_type": "code",
   "execution_count": 2,
   "metadata": {},
   "outputs": [
    {
     "name": "stdout",
     "output_type": "stream",
     "text": [
      "[5.6241617740325935, 4.910076445251659, 6.148765880496397, 5.238743207361284, 6.378295977809906, 5.008108701161497, 5.7207662948115034, 4.607446658127727, 5.061273833813615, 5.6173536613426025]\n"
     ]
    }
   ],
   "source": [
    "import random\n",
    "import numpy as np\n",
    "from sklearn.cluster import KMeans\n",
    "\n",
    "mean = 5\n",
    "stdev = 1\n",
    "\n",
    "c1 = np.random.normal(mean, stdev, 10).tolist()\n",
    "print(c1)"
   ]
  },
  {
   "cell_type": "markdown",
   "metadata": {},
   "source": [
    "a) Generate 10 more data points, this time coming from a normal distribution with mean 8 and variance 1."
   ]
  },
  {
   "cell_type": "code",
   "execution_count": 3,
   "metadata": {},
   "outputs": [
    {
     "name": "stdout",
     "output_type": "stream",
     "text": [
      "[9.184072489416296, 10.178583754454541, 9.77062416063559, 8.84796816469211, 8.381343841327233, 8.842257857993372, 6.803547007314304, 6.674330940815488, 6.9002319125376355, 8.219816089412564]\n"
     ]
    }
   ],
   "source": [
    "c2 = np.random.normal(8, 1, 10).tolist()\n",
    "print(c2)"
   ]
  },
  {
   "cell_type": "markdown",
   "metadata": {},
   "source": [
    "b) Flip a fair coin 10 times. If the coin lands on H, then pick the last data point of `c1` and remove it from `c1`, if T then pick the last data point from `c2` and remove it from `c2`. Add these 10 points to a list called `data`."
   ]
  },
  {
   "cell_type": "code",
   "execution_count": 4,
   "metadata": {},
   "outputs": [
    {
     "name": "stdout",
     "output_type": "stream",
     "text": [
      "[5.6173536613426025, 8.219816089412564, 6.9002319125376355, 6.674330940815488, 6.803547007314304, 5.061273833813615, 8.842257857993372, 4.607446658127727, 5.7207662948115034, 5.008108701161497]\n"
     ]
    }
   ],
   "source": [
    "data = []\n",
    "for i in range(10):\n",
    "    # flip coin\n",
    "    coin_output = random.choice([0, 1])\n",
    "    if coin_output == 0:\n",
    "        p1 = c1.pop()\n",
    "        data.append(p1)\n",
    "    else:\n",
    "        p2 = c2.pop()\n",
    "        data.append(p2)\n",
    "print(data)"
   ]
  },
  {
   "cell_type": "markdown",
   "metadata": {},
   "source": [
    "c) This `data` is a Gaussian Mixture Distribution with 2 mixture components. Over the next few questions we will walk through the GMM algorithm to see if we can uncover the parameters we used to generate this data. First, please list all these parameters of the GMM that created `data` and the values we know they have."
   ]
  },
  {
   "cell_type": "markdown",
   "metadata": {},
   "source": [
    "1. Mean and variance of each of the distributions\n",
    "2. Probability of choosing one of the 2 distribution (0.5)"
   ]
  },
  {
   "cell_type": "markdown",
   "metadata": {},
   "source": [
    "d) Let's assume there are two mixture components (note: we could plot the data and make the observation that there are two clusters). The EM algorithm asks us to start with a random `mean_j`, `variance_j`, `P(C_j)` for each component j. One method we could use to find sensible values for these is to apply K means with k=2 here.\n",
    "\n",
    "1. the centroids would be the estimates of the `mean_j`\n",
    "2. the intra-cluster variance could be the estimate of `variance_j`\n",
    "3. the proportion of points in each cluster could be the estimate of `P(C_j)`\n",
    "\n",
    "Go through this process and list the parameter estimates it gives. Are they close or far from the true values?"
   ]
  },
  {
   "cell_type": "code",
   "execution_count": 5,
   "metadata": {},
   "outputs": [
    {
     "name": "stdout",
     "output_type": "stream",
     "text": [
      "[5.6173536613426025, 5.061273833813615, 4.607446658127727, 5.7207662948115034, 5.008108701161497]\n",
      "[8.219816089412564, 6.9002319125376355, 6.674330940815488, 6.803547007314304, 8.842257857993372]\n",
      "P(C_1) = 0.5,  P(C_2) = 0.5\n",
      "mean_1 = 5.202989829851389,  mean_2 = 7.488036761614673\n",
      "var_1 = 0.17050471995075506,  var_2 = 3.845573689612594\n"
     ]
    }
   ],
   "source": [
    "kmeans = KMeans(2, init='k-means++').fit(X=np.array(data).reshape(-1, 1))\n",
    "\n",
    "c1 = [x[0] for x in filter(lambda x: x[1] == 0, zip(data, kmeans.labels_))]\n",
    "print(c1)\n",
    "c2 = [x[0] for x in filter(lambda x: x[1] == 1, zip(data, kmeans.labels_))]\n",
    "print(c2)\n",
    "\n",
    "prob_c = [ len(c1) / (len(c1) + len(c2)) , len(c2) / (len(c1) + len(c2))]\n",
    "mean = [ sum(c1)/len(c1) , sum(c2)/len(c2) ]\n",
    "var = [ sum(map(lambda x : (x - mean[0])**2, c1)) / len(c1) , sum(map(lambda x: (x-mean[1])**2, c2))]\n",
    "\n",
    "print(\"P(C_1) = \" + str(prob_c[0]) + \",  P(C_2) = \" + str(prob_c[1]))\n",
    "print(\"mean_1 = \" + str(mean[0]) + \",  mean_2 = \" + str(mean[1]))\n",
    "print(\"var_1 = \" + str(var[0]) + \",  var_2 = \" + str(var[1]))"
   ]
  },
  {
   "cell_type": "markdown",
   "metadata": {},
   "source": [
    "For the 1st distribution, mean_true = 5, var_true = 1, whereas here we got mean = 4.67 and variance = 1.34. They're not too far off the true values.\n",
    "\n",
    "For the 2nd distribution, mean_true = 8, var_true = 1, whereas here we got mean = 8.26 and variance = 2.77. The mean isn't far off the true mean, but the variance is off by 1.77."
   ]
  },
  {
   "cell_type": "markdown",
   "metadata": {},
   "source": [
    "e) For each data point, compute `P(C_j | X_i)`. Comment on which cluster you think each point belongs to based on the estimated probabilities. How does that compare to the truth?"
   ]
  },
  {
   "cell_type": "code",
   "execution_count": 6,
   "metadata": {},
   "outputs": [
    {
     "name": "stdout",
     "output_type": "stream",
     "text": [
      "point =  5.6173536613426025\n",
      "probability of observing that point if it came from cluster 0 =  0.12209831066170512\n",
      "probability of observing that point if it came from cluster 1 =  0.09216465177059058\n",
      "point =  8.219816089412564\n",
      "probability of observing that point if it came from cluster 0 =  2.449209925936089e-68\n",
      "probability of observing that point if it came from cluster 1 =  0.101879277148656\n",
      "point =  6.9002319125376355\n",
      "probability of observing that point if it came from cluster 0 =  7.12524069035231e-22\n",
      "probability of observing that point if it came from cluster 1 =  0.10253580292995661\n",
      "point =  6.674330940815488\n",
      "probability of observing that point if it came from cluster 0 =  1.582121340002086e-16\n",
      "probability of observing that point if it came from cluster 1 =  0.10144407249934942\n",
      "point =  6.803547007314304\n",
      "probability of observing that point if it came from cluster 0 =  1.715438968280392e-19\n",
      "probability of observing that point if it came from cluster 1 =  0.10211023703793694\n",
      "point =  5.061273833813615\n",
      "probability of observing that point if it came from cluster 0 =  1.656395307991995\n",
      "probability of observing that point if it came from cluster 1 =  0.0850109148748876\n",
      "point =  8.842257857993372\n",
      "probability of observing that point if it came from cluster 0 =  2.775682071867791e-99\n",
      "probability of observing that point if it came from cluster 1 =  0.09750356349915945\n",
      "point =  4.607446658127727\n",
      "probability of observing that point if it came from cluster 0 =  0.00524825336354492\n",
      "probability of observing that point if it came from cluster 1 =  0.07836235934279187\n",
      "point =  5.7207662948115034\n",
      "probability of observing that point if it came from cluster 0 =  0.02326500812049578\n",
      "probability of observing that point if it came from cluster 1 =  0.09334445029993783\n",
      "point =  5.008108701161497\n",
      "probability of observing that point if it came from cluster 0 =  1.2175832121993784\n",
      "probability of observing that point if it came from cluster 1 =  0.08426442448568737\n",
      "5.6173536613426025\n",
      "Probability of coming from C_1 = 0.5698526207033406\n",
      "Probability of coming from C_2 = 0.43014737929665936\n",
      "\n",
      "8.219816089412564\n",
      "Probability of coming from C_1 = 2.4040315111014694e-67\n",
      "Probability of coming from C_2 = 1.0\n",
      "\n",
      "6.9002319125376355\n",
      "Probability of coming from C_1 = 6.949027058596931e-21\n",
      "Probability of coming from C_2 = 1.0\n",
      "\n",
      "6.674330940815488\n",
      "Probability of coming from C_1 = 1.559599591205519e-15\n",
      "Probability of coming from C_2 = 0.9999999999999984\n",
      "\n",
      "6.803547007314304\n",
      "Probability of coming from C_1 = 1.6799872549929115e-18\n",
      "Probability of coming from C_2 = 1.0\n",
      "\n",
      "5.061273833813615\n",
      "Probability of coming from C_1 = 0.9511826053228787\n",
      "Probability of coming from C_2 = 0.04881739467712126\n",
      "\n",
      "8.842257857993372\n",
      "Probability of coming from C_1 = 2.8467493620289263e-98\n",
      "Probability of coming from C_2 = 1.0\n",
      "\n",
      "4.607446658127727\n",
      "Probability of coming from C_1 = 0.06277018184256361\n",
      "Probability of coming from C_2 = 0.9372298181574363\n",
      "\n",
      "5.7207662948115034\n",
      "Probability of coming from C_1 = 0.19951218739576124\n",
      "Probability of coming from C_2 = 0.8004878126042387\n",
      "\n",
      "5.008108701161497\n",
      "Probability of coming from C_1 = 0.9352732054726063\n",
      "Probability of coming from C_2 = 0.06472679452739373\n",
      "\n"
     ]
    }
   ],
   "source": [
    "from scipy.stats import norm\n",
    "\n",
    "prob_c0_x = [] # P(C_0 | X_i)\n",
    "prob_c1_x = [] # P(C_1 | X_i)\n",
    "prob_x = [] # P(X_i)\n",
    "\n",
    "k = 2\n",
    "\n",
    "for p in data:\n",
    "    print(\"point = \", p)\n",
    "    pdf_i = []\n",
    "\n",
    "    for j in range(k):\n",
    "        # P(X_i | C_j)\n",
    "        pdf_i.append(norm.pdf(p, mean[j], var[j]))\n",
    "        print(\"probability of observing that point if it came from cluster \" + str(j) + \" = \", pdf_i[j])\n",
    "        # P(C_j) already computed\n",
    "        prob_c[j]\n",
    "\n",
    "    # P(X_i) = P(C_0)P(X_i | C_0) + P(C_1)P(X_i | C_1)\n",
    "    prob_x = prob_c[0] * pdf_i[0] + prob_c[1] * pdf_i[1]\n",
    "\n",
    "    # P(C_j | X_i) = P(X_i | C_j)P(C_j) / P(X_i)\n",
    "    c0_x = (pdf_i[0] * prob_c[0]) / prob_x\n",
    "    c1_x = (pdf_i[1] * prob_c[1]) / prob_x\n",
    "    prob_c0_x.append(c0_x)\n",
    "    prob_c1_x.append(c1_x)\n",
    "\n",
    "probs = zip(data, prob_c0_x, prob_c1_x)\n",
    "for p in probs:\n",
    "    print(p[0])\n",
    "    print(\"Probability of coming from C_1 = \" + str(p[1]))\n",
    "    print(\"Probability of coming from C_2 = \" + str(p[2]))\n",
    "    print()\n"
   ]
  },
  {
   "cell_type": "markdown",
   "metadata": {},
   "source": [
    "f) Having computed `P(C_j | X_i)`, update the estimates of `mean_j`, `var_j`, and `P(C_j)`. How different are these values from the original ones you got from K means? briefly comment."
   ]
  },
  {
   "cell_type": "code",
   "execution_count": 9,
   "metadata": {},
   "outputs": [
    {
     "name": "stdout",
     "output_type": "stream",
     "text": [
      "P(C_1) = 0.2718590800737152,  P(C_2) = 0.7281409199262847\n",
      "mean_1 = 5.197465566686449,  mean_2 = 6.774149004780834\n",
      "var_1 = 0.08391596882725703,  var_2 = 1.7307941280170729\n"
     ]
    }
   ],
   "source": [
    "prob_c = [sum(prob_c0_x)/ len(prob_c0_x), sum(prob_c1_x)/len(prob_c1_x)]\n",
    "mean = [sum([x[0] * x[1] for x in zip(prob_c0_x, data)]) / sum(prob_c0_x), sum([x[0] * x[1] for x in zip(prob_c1_x, data)]) / sum(prob_c1_x)]\n",
    "var = [sum([(x[0] * (x[1] - mean[0])**2) for x in zip(prob_c0_x, data)]) / sum(prob_c0_x) , sum([(x[0] * (x[1] - mean[1])**2) for x in zip(prob_c1_x, data)]) / sum(prob_c1_x)]\n",
    "\n",
    "print(\"P(C_1) = \" + str(prob_c[0]) + \",  P(C_2) = \" + str(prob_c[1]))\n",
    "print(\"mean_1 = \" + str(mean[0]) + \",  mean_2 = \" + str(mean[1]))\n",
    "print(\"var_1 = \" + str(var[0]) + \",  var_2 = \" + str(var[1]))"
   ]
  },
  {
   "cell_type": "markdown",
   "metadata": {},
   "source": [
    "Old values: \n",
    "\n",
    "P(C_1) = 0.5,  P(C_2) = 0.5\n",
    "\n",
    "mean_1 = 5.202989829851389,  mean_2 = 7.488036761614673\n",
    "\n",
    "var_1 = 0.17050471995075506,  var_2 = 3.845573689612594\n",
    "\n",
    "New values: \n",
    "\n",
    "P(C_1) = 0.2718590800737152,  P(C_2) = 0.7281409199262847\n",
    "\n",
    "mean_1 = 5.197465566686449,  mean_2 = 6.774149004780834\n",
    "\n",
    "var_1 = 0.08391596882725703,  var_2 = 1.7307941280170729\n",
    "\n",
    "We see that the variances has reduced and so has the means of both distributions."
   ]
  },
  {
   "cell_type": "markdown",
   "metadata": {},
   "source": [
    "g) Update `P(C_j | X_i)`. Comment on any differences or lack thereof you observe."
   ]
  },
  {
   "cell_type": "code",
   "execution_count": 10,
   "metadata": {
    "scrolled": true
   },
   "outputs": [
    {
     "name": "stdout",
     "output_type": "stream",
     "text": [
      "point =  5.6173536613426025\n",
      "probability of observing that point if it came from cluster 0 =  1.7394220769903484e-05\n",
      "probability of observing that point if it came from cluster 1 =  0.1843586742770387\n",
      "point =  8.219816089412564\n",
      "probability of observing that point if it came from cluster 0 =  9.951369551540848e-282\n",
      "probability of observing that point if it came from cluster 1 =  0.16261815641417932\n",
      "point =  6.9002319125376355\n",
      "probability of observing that point if it came from cluster 0 =  1.859119097757811e-89\n",
      "probability of observing that point if it came from cluster 1 =  0.22988589496233733\n",
      "point =  6.674330940815488\n",
      "probability of observing that point if it came from cluster 0 =  2.6218474855599838e-67\n",
      "probability of observing that point if it came from cluster 1 =  0.23011366651688225\n",
      "point =  6.803547007314304\n",
      "probability of observing that point if it came from cluster 0 =  1.3626550319798046e-79\n",
      "probability of observing that point if it came from cluster 1 =  0.2304634218496427\n",
      "point =  5.061273833813615\n",
      "probability of observing that point if it came from cluster 0 =  1.2738087747506008\n",
      "probability of observing that point if it came from cluster 1 =  0.14125063177141411\n",
      "point =  8.842257857993372\n",
      "probability of observing that point if it came from cluster 0 =  0.0\n",
      "probability of observing that point if it came from cluster 1 =  0.11288337150853041\n",
      "point =  4.607446658127727\n",
      "probability of observing that point if it came from cluster 0 =  8.753696769773274e-11\n",
      "probability of observing that point if it came from cluster 1 =  0.10528454275138958\n",
      "point =  5.7207662948115034\n",
      "probability of observing that point if it came from cluster 0 =  1.7087773026407074e-08\n",
      "probability of observing that point if it came from cluster 1 =  0.19152759602352806\n",
      "point =  5.008108701161497\n",
      "probability of observing that point if it came from cluster 0 =  0.3727272859344596\n",
      "probability of observing that point if it came from cluster 1 =  0.13695671067094953\n",
      "5.6173536613426025\n",
      "Probability of coming from C_1 = 3.522528437568839e-05\n",
      "Probability of coming from C_2 = 0.9999647747156243\n",
      "\n",
      "8.219816089412564\n",
      "Probability of coming from C_1 = 2.2847686235985904e-281\n",
      "Probability of coming from C_2 = 1.0\n",
      "\n",
      "6.9002319125376355\n",
      "Probability of coming from C_1 = 3.0194183620521694e-89\n",
      "Probability of coming from C_2 = 1.0\n",
      "\n",
      "6.674330940815488\n",
      "Probability of coming from C_1 = 4.253960152251563e-67\n",
      "Probability of coming from C_2 = 1.0\n",
      "\n",
      "6.803547007314304\n",
      "Probability of coming from C_1 = 2.2075590191999848e-79\n",
      "Probability of coming from C_2 = 1.0\n",
      "\n",
      "5.061273833813615\n",
      "Probability of coming from C_1 = 0.7710094911610129\n",
      "Probability of coming from C_2 = 0.22899050883898706\n",
      "\n",
      "8.842257857993372\n",
      "Probability of coming from C_1 = 0.0\n",
      "Probability of coming from C_2 = 1.0\n",
      "\n",
      "4.607446658127727\n",
      "Probability of coming from C_1 = 3.104239979153863e-10\n",
      "Probability of coming from C_2 = 0.9999999996895761\n",
      "\n",
      "5.7207662948115034\n",
      "Probability of coming from C_1 = 3.3310603383170814e-08\n",
      "Probability of coming from C_2 = 0.9999999666893966\n",
      "\n",
      "5.008108701161497\n",
      "Probability of coming from C_1 = 0.5039927559318207\n",
      "Probability of coming from C_2 = 0.49600724406817936\n",
      "\n"
     ]
    }
   ],
   "source": [
    "from scipy.stats import norm\n",
    "\n",
    "prob_c0_x = [] # P(C_0 | X_i)\n",
    "prob_c1_x = [] # P(C_1 | X_i)\n",
    "prob_x = [] # P(X_i)\n",
    "\n",
    "k = 2\n",
    "\n",
    "for p in data:\n",
    "    print(\"point = \", p)\n",
    "    pdf_i = []\n",
    "\n",
    "    for j in range(k):\n",
    "        # P(X_i | C_j)\n",
    "        pdf_i.append(norm.pdf(p, mean[j], var[j]))\n",
    "        print(\"probability of observing that point if it came from cluster \" + str(j) + \" = \", pdf_i[j])\n",
    "        # P(C_j) already computed\n",
    "        prob_c[j]\n",
    "\n",
    "    # P(X_i) = P(C_0)P(X_i | C_0) + P(C_1)P(X_i | C_1)\n",
    "    prob_x = prob_c[0] * pdf_i[0] + prob_c[1] * pdf_i[1]\n",
    "\n",
    "    # P(C_j | X_i) = P(X_i | C_j)P(C_j) / P(X_i)\n",
    "    c0_x = (pdf_i[0] * prob_c[0]) / prob_x\n",
    "    c1_x = (pdf_i[1] * prob_c[1]) / prob_x\n",
    "    prob_c0_x.append(c0_x)\n",
    "    prob_c1_x.append(c1_x)\n",
    "\n",
    "probs = zip(data, prob_c0_x, prob_c1_x)\n",
    "for p in probs:\n",
    "    print(p[0])\n",
    "    print(\"Probability of coming from C_1 = \" + str(p[1]))\n",
    "    print(\"Probability of coming from C_2 = \" + str(p[2]))\n",
    "    print()"
   ]
  },
  {
   "cell_type": "markdown",
   "metadata": {},
   "source": [
    "The probabilities are converging towards one or the other distribution more than the previous step."
   ]
  },
  {
   "cell_type": "markdown",
   "metadata": {},
   "source": [
    "h) Use `P(C_j | X_i)` to create a hard assignment - label each point as belonging to a specific cluster (0 or 1)"
   ]
  },
  {
   "cell_type": "code",
   "execution_count": 13,
   "metadata": {},
   "outputs": [
    {
     "name": "stdout",
     "output_type": "stream",
     "text": [
      "[5.6173536613426025, 8.219816089412564, 6.9002319125376355, 6.674330940815488, 6.803547007314304, 5.061273833813615, 8.842257857993372, 4.607446658127727, 5.7207662948115034, 5.008108701161497] [1, 1, 1, 1, 1, 0, 1, 1, 1, 0]\n"
     ]
    }
   ],
   "source": [
    "hard_assignments = [0 if prob_c0_x[i] > prob_c1_x[i] else 1 for i in range(len(data))]\n",
    "print(data, hard_assignments)"
   ]
  },
  {
   "cell_type": "markdown",
   "metadata": {},
   "source": [
    "### Clustering Aggregation\n",
    "\n",
    "| Point | C | P |\n",
    "|-------|---|---|\n",
    "| A     | 0 | a |\n",
    "| B     | 0 | b |\n",
    "| C     | 2 | b |\n",
    "| D     | 1 | c |\n",
    "| E     | 1 | d |\n",
    "\n",
    "a) Fill in the following table where for each pair of points determine whether C and P agree or disagree on how to cluster that pair."
   ]
  },
  {
   "cell_type": "markdown",
   "metadata": {},
   "source": [
    "| Pair | Disagreement |\n",
    "|------|--------------|\n",
    "| A  B |      ?       |\n",
    "| A  C |      ?       |\n",
    "| A  D |      ?       |\n",
    "| A  E |      ?       |\n",
    "| B  C |      ?       |\n",
    "| B  D |      ?       |\n",
    "| B  E |      ?       |\n",
    "| C  D |      ?       |\n",
    "| C  E |      ?       |\n",
    "| D  E |      ?       |\n"
   ]
  },
  {
   "cell_type": "markdown",
   "metadata": {},
   "source": [
    "As datasets become very large, this process can become computationally challenging.\n",
    "\n",
    "b) Given N points, what is the formula for the number of unique pairs of points one can create?"
   ]
  },
  {
   "cell_type": "markdown",
   "metadata": {},
   "source": []
  },
  {
   "cell_type": "markdown",
   "metadata": {},
   "source": [
    "Assume that clustering C clusters all points in the same cluster and clustering P clusters points as such:\n",
    "\n",
    "| Point | P |\n",
    "|-------|---|\n",
    "| A     | 0 |\n",
    "| B     | 0 |\n",
    "| C     | 0 |\n",
    "| D     | 1 |\n",
    "| E     | 1 |\n",
    "| F     | 2 |\n",
    "| G     | 2 |\n",
    "| H     | 2 |\n",
    "| I     | 2 |\n",
    "\n",
    "c) What is the maximum number of disagreements there could be for a dataset of this size? (use the formula from b)?"
   ]
  },
  {
   "cell_type": "markdown",
   "metadata": {},
   "source": []
  },
  {
   "cell_type": "markdown",
   "metadata": {},
   "source": [
    "d) If we look at cluster 0. There are (3 x 2) / 2 = 3 pairs that agree with C (since all points in C are in the same cluster). For each cluster, determine how many agreements there are. How many total agreements are there? How many disagreements does that mean there are between C and P?"
   ]
  },
  {
   "cell_type": "markdown",
   "metadata": {},
   "source": []
  },
  {
   "cell_type": "markdown",
   "metadata": {},
   "source": [
    "e) Assuming that filtering the dataset by cluster number is a computationally easy operation, describe an algorithm inspired by the above process that can efficiently compute disagreement distances on large datasets."
   ]
  },
  {
   "cell_type": "markdown",
   "metadata": {},
   "source": []
  }
 ],
 "metadata": {
  "interpreter": {
   "hash": "76ca05dc3ea24b2e3b98cdb7774adfbb40773424bf5109b477fd793f623715af"
  },
  "kernelspec": {
   "display_name": "Python 3",
   "language": "python",
   "name": "python3"
  },
  "language_info": {
   "codemirror_mode": {
    "name": "ipython",
    "version": 3
   },
   "file_extension": ".py",
   "mimetype": "text/x-python",
   "name": "python",
   "nbconvert_exporter": "python",
   "pygments_lexer": "ipython3",
   "version": "3.8.3"
  }
 },
 "nbformat": 4,
 "nbformat_minor": 2
}
