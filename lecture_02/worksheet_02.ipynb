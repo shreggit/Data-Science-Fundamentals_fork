{
 "cells": [
  {
   "cell_type": "markdown",
   "metadata": {},
   "source": [
    "# Worksheet 02\n",
    "\n",
    "Name: Shreyas Sudarsan\n",
    "UID: U71890555\n",
    "\n",
    "### Topics\n",
    "\n",
    "- Effective Programming\n",
    "\n",
    "### Effective Programming\n",
    "\n",
    "a) What is a drawback of the top down approach?"
   ]
  },
  {
   "cell_type": "markdown",
   "metadata": {},
   "source": [
    "In this approach, testing is not possible till the last development. So it's not executable till the whole program is built."
   ]
  },
  {
   "cell_type": "markdown",
   "metadata": {},
   "source": [
    "b) What is a drawback of the bottom up approach?"
   ]
  },
  {
   "cell_type": "markdown",
   "metadata": {},
   "source": [
    "Although executable before completion, this approach would make it hard to understand the functionality of the system in the beginning and can be time consuming."
   ]
  },
  {
   "cell_type": "markdown",
   "metadata": {},
   "source": [
    "c) What are 3 things you can do to have a better debugging experience?"
   ]
  },
  {
   "cell_type": "markdown",
   "metadata": {},
   "source": [
    "1) Reading the error and understanding where it arises from.\n",
    "2) Re-read the code and try to reproduce the error mentally.\n",
    "3) Taking breaks between debugging and looking for online help."
   ]
  },
  {
   "cell_type": "markdown",
   "metadata": {},
   "source": [
    "d) Follow along with the live coding. You can write your code here:"
   ]
  },
  {
   "cell_type": "code",
   "execution_count": 19,
   "metadata": {},
   "outputs": [],
   "source": [
    "import os\n",
    "class Board:\n",
    "    def __init__(self):\n",
    "        self.board = [[\"_\" for _ in range(8)] for _ in range(8)]\n",
    "        self.queen = \"Q\"\n",
    "        self.blank = \"_\"\n",
    "\n",
    "    def __repr__(self):\n",
    "        res = \"\"\n",
    "\n",
    "        for row in self.board:\n",
    "            for col in row:\n",
    "                res += col\n",
    "                res += \" \"\n",
    "            res += \"\\n\"\n",
    "        return res\n",
    "    \n",
    "    def is_queen(self, row, col):\n",
    "        return self.board[row][col] == self.queen\n",
    "\n",
    "    def is_legal_row(self,row,col):\n",
    "        for j in range(len(self.board)):\n",
    "            if self.is_queen(row, j):\n",
    "                return False\n",
    "        return True\n",
    "\n",
    "    def is_legal_col(self,row,col):\n",
    "        for i in range(len(self.board)):\n",
    "            if self.is_queen(i, col):\n",
    "                return False\n",
    "        return True\n",
    "\n",
    "    def is_on_board(self,row,col):\n",
    "        return row >= 0 and row < 8 and col >= 0 and col <8\n",
    "\n",
    "    def is_legal_diag(self,row,col):\n",
    "        for i in range(len(self.board)):\n",
    "            if self.is_on_board(row-i, col-i) and self.is_queen(row-i, col-i):\n",
    "                return False\n",
    "            if self.is_on_board(row-i, col+i) and self.is_queen(row-i, col+i):\n",
    "                return False\n",
    "            if self.is_on_board(row+i, col-i) and self.is_queen(row+i, col-i):\n",
    "                return False\n",
    "            if self.is_on_board(row+i, col+i) and self.is_queen(row+i, col+i):\n",
    "                return False\n",
    "        return True\n",
    "\n",
    "\n",
    "    def is_legal(self,row,col):\n",
    "        if not self.is_legal_row(row,col):\n",
    "            return False\n",
    "        if not self.is_legal_col(row,col):\n",
    "             return False\n",
    "        if not self.is_legal_diag(row,col):\n",
    "            return False\n",
    "        return True\n",
    "\n",
    "    def set_queen_at(self,row,col):\n",
    "        self.board[row][col] = self.queen\n",
    "\n",
    "    def unset_queen_on(self,row):\n",
    "        self.board[row] = [self.blank for _ in range(8)]\n",
    "\n",
    "    def get_queen_on(self,row):\n",
    "        for col in range(len(self.board)):\n",
    "            if self.is_queen(row, col):\n",
    "                return col\n",
    "        raise ValueError(\"Programming error\")\n",
    "\n",
    "    def search(self):\n",
    "        row = 0\n",
    "        col = 0\n",
    "        nsols = 0\n",
    "        \n",
    "        while row >= 0:\n",
    "            if row < 8:\n",
    "                if col >= 8:\n",
    "                    row -= 1\n",
    "                    if row >= 0:\n",
    "                        col = self.get_queen_on(row) + 1\n",
    "                        self.unset_queen_on(row)\n",
    "\n",
    "                else:\n",
    "                    if self.is_legal(row,col):\n",
    "                        self.set_queen_at(row,col)\n",
    "                        row += 1\n",
    "                        col = 0\n",
    "                    else:\n",
    "                        col += 1\n",
    "\n",
    "            else:\n",
    "                nsols += 1\n",
    "                print(\"Found solution number: \", nsols)\n",
    "                print(self)\n",
    "                input(\"Enter for next solutions: \")\n",
    "                os.system(\"clear\")\n",
    "                row -= 1 \n",
    "                col = self.get_queen_on(row) + 1\n",
    "                self.unset_queen_on(row) \n",
    "                \n",
    "        print(\"no more solutions\")"
   ]
  },
  {
   "cell_type": "code",
   "execution_count": null,
   "metadata": {},
   "outputs": [
    {
     "name": "stdout",
     "output_type": "stream",
     "text": [
      "Found solution number:  1\n",
      "Q _ _ _ _ _ _ _ \n",
      "_ _ _ _ Q _ _ _ \n",
      "_ _ _ _ _ _ _ Q \n",
      "_ _ _ _ _ Q _ _ \n",
      "_ _ Q _ _ _ _ _ \n",
      "_ _ _ _ _ _ Q _ \n",
      "_ Q _ _ _ _ _ _ \n",
      "_ _ _ Q _ _ _ _ \n",
      "\n",
      "Enter for next solutions: \n",
      "Found solution number:  2\n",
      "Q _ _ _ _ _ _ _ \n",
      "_ _ _ _ _ Q _ _ \n",
      "_ _ _ _ _ _ _ Q \n",
      "_ _ Q _ _ _ _ _ \n",
      "_ _ _ _ _ _ Q _ \n",
      "_ _ _ Q _ _ _ _ \n",
      "_ Q _ _ _ _ _ _ \n",
      "_ _ _ _ Q _ _ _ \n",
      "\n",
      "Enter for next solutions: \n",
      "Found solution number:  3\n",
      "Q _ _ _ _ _ _ _ \n",
      "_ _ _ _ _ _ Q _ \n",
      "_ _ _ Q _ _ _ _ \n",
      "_ _ _ _ _ Q _ _ \n",
      "_ _ _ _ _ _ _ Q \n",
      "_ Q _ _ _ _ _ _ \n",
      "_ _ _ _ Q _ _ _ \n",
      "_ _ Q _ _ _ _ _ \n",
      "\n",
      "Enter for next solutions: \n",
      "Found solution number:  4\n",
      "Q _ _ _ _ _ _ _ \n",
      "_ _ _ _ _ _ Q _ \n",
      "_ _ _ _ Q _ _ _ \n",
      "_ _ _ _ _ _ _ Q \n",
      "_ Q _ _ _ _ _ _ \n",
      "_ _ _ Q _ _ _ _ \n",
      "_ _ _ _ _ Q _ _ \n",
      "_ _ Q _ _ _ _ _ \n",
      "\n",
      "Enter for next solutions: \n",
      "Found solution number:  5\n",
      "_ Q _ _ _ _ _ _ \n",
      "_ _ _ Q _ _ _ _ \n",
      "_ _ _ _ _ Q _ _ \n",
      "_ _ _ _ _ _ _ Q \n",
      "_ _ Q _ _ _ _ _ \n",
      "Q _ _ _ _ _ _ _ \n",
      "_ _ _ _ _ _ Q _ \n",
      "_ _ _ _ Q _ _ _ \n",
      "\n"
     ]
    }
   ],
   "source": [
    "my_board= Board()\n",
    "print(my_board.search())"
   ]
  },
  {
   "cell_type": "code",
   "execution_count": null,
   "metadata": {},
   "outputs": [],
   "source": []
  }
 ],
 "metadata": {
  "kernelspec": {
   "display_name": "Python 3",
   "language": "python",
   "name": "python3"
  },
  "language_info": {
   "codemirror_mode": {
    "name": "ipython",
    "version": 3
   },
   "file_extension": ".py",
   "mimetype": "text/x-python",
   "name": "python",
   "nbconvert_exporter": "python",
   "pygments_lexer": "ipython3",
   "version": "3.8.3"
  },
  "vscode": {
   "interpreter": {
    "hash": "76ca05dc3ea24b2e3b98cdb7774adfbb40773424bf5109b477fd793f623715af"
   }
  }
 },
 "nbformat": 4,
 "nbformat_minor": 2
}
